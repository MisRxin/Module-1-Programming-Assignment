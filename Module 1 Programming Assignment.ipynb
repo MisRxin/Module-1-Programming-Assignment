{
 "cells": [
  {
   "cell_type": "markdown",
   "id": "53d075e8-c986-42a4-90f4-ad5e768af137",
   "metadata": {},
   "source": [
    "How many seconds are in an hour? Use the interactive interpreter as a calculator and multiply the number of seconds in a minute (60) by the number of minutes in an hour (also 60)our"
   ]
  },
  {
   "cell_type": "code",
   "execution_count": 5,
   "id": "85f5cc34-021d-4697-91da-ab0c51ab1863",
   "metadata": {},
   "outputs": [
    {
     "data": {
      "text/plain": [
       "3600"
      ]
     },
     "execution_count": 5,
     "metadata": {},
     "output_type": "execute_result"
    }
   ],
   "source": [
    "Minutes_per_hour = 60\n",
    "Seconds_per_minute = 60\n",
    "Seconds_per_hour = Seconds_per_minute * Minutes_per_hour\n",
    "Seconds_per_hour"
   ]
  },
  {
   "cell_type": "markdown",
   "id": "89741a2e-ff20-4c02-bc25-77b993e31ba2",
   "metadata": {},
   "source": [
    "Assign the result from the previous task (seconds in an hour) to a variable called seconds_per_hour."
   ]
  },
  {
   "cell_type": "code",
   "execution_count": 7,
   "id": "5521e9fa-31e2-4117-8d93-1c37ac569a58",
   "metadata": {},
   "outputs": [
    {
     "data": {
      "text/plain": [
       "3600"
      ]
     },
     "execution_count": 7,
     "metadata": {},
     "output_type": "execute_result"
    }
   ],
   "source": [
    "Seconds_per_hour = Seconds_per_minute * Minutes_per_hour\n",
    "Seconds_per_hour"
   ]
  },
  {
   "cell_type": "markdown",
   "id": "0d6c0788-3b4f-45cc-a3c7-4f5ecb0f2030",
   "metadata": {},
   "source": [
    "How many seconds are in a day? Use your seconds_per_hour variable."
   ]
  },
  {
   "cell_type": "code",
   "execution_count": 9,
   "id": "e97621a1-5282-45d8-b793-c435c343fd38",
   "metadata": {},
   "outputs": [
    {
     "data": {
      "text/plain": [
       "86400"
      ]
     },
     "execution_count": 9,
     "metadata": {},
     "output_type": "execute_result"
    }
   ],
   "source": [
    "Hours_per_day = 24\n",
    "Seconds_per_day = Seconds_per_hour * Hours_per_day\n",
    "Seconds_per_day"
   ]
  },
  {
   "cell_type": "markdown",
   "id": "f1191163-b2b7-4ad7-b5d4-c6aa2fd7a164",
   "metadata": {},
   "source": [
    "Calculate seconds per day again, but this time save the result in a variable called seconds_per_day."
   ]
  },
  {
   "cell_type": "code",
   "execution_count": 11,
   "id": "ca289276-fd83-4f32-be1c-70c3c36d18bc",
   "metadata": {},
   "outputs": [
    {
     "data": {
      "text/plain": [
       "86400"
      ]
     },
     "execution_count": 11,
     "metadata": {},
     "output_type": "execute_result"
    }
   ],
   "source": [
    "Seconds_per_day = Seconds_per_hour * Hours_per_day\n",
    "Seconds_per_day"
   ]
  },
  {
   "cell_type": "markdown",
   "id": "51d40377-40b9-4a70-bfa4-47f4814a4f50",
   "metadata": {},
   "source": [
    "Divide seconds_per_day by seconds_per_hour. Use floating-point (/) division."
   ]
  },
  {
   "cell_type": "code",
   "execution_count": 13,
   "id": "40bc9718-e478-48d7-a997-1c4230b0bc6e",
   "metadata": {},
   "outputs": [
    {
     "data": {
      "text/plain": [
       "24.0"
      ]
     },
     "execution_count": 13,
     "metadata": {},
     "output_type": "execute_result"
    }
   ],
   "source": [
    "Seconds_per_day = 86400\n",
    "Result = Seconds_per_day / Seconds_per_hour\n",
    "Result"
   ]
  },
  {
   "cell_type": "markdown",
   "id": "871eae2a-8c43-46d0-9055-d9502f8131d4",
   "metadata": {},
   "source": [
    "Divide seconds_per_day by seconds_per_hour, using integer (//) division. Did this number agree with the floating-point value from the previous question, aside from the final .0?"
   ]
  },
  {
   "cell_type": "markdown",
   "id": "cab6bb0e-fb77-4185-ab33-daf6e1ca7677",
   "metadata": {},
   "source": [
    "- Yes the floating-point value of 24"
   ]
  },
  {
   "cell_type": "code",
   "execution_count": null,
   "id": "0bacd5eb-20b9-4c6d-b6a4-3bc29d0a230c",
   "metadata": {},
   "outputs": [],
   "source": [
    "Seconds_per_day = 86400\n",
    "Result_integer = Seconds_per_day // Seconds_per_hour\n",
    "Result_integer"
   ]
  }
 ],
 "metadata": {
  "kernelspec": {
   "display_name": "Python 3 (ipykernel)",
   "language": "python",
   "name": "python3"
  },
  "language_info": {
   "codemirror_mode": {
    "name": "ipython",
    "version": 3
   },
   "file_extension": ".py",
   "mimetype": "text/x-python",
   "name": "python",
   "nbconvert_exporter": "python",
   "pygments_lexer": "ipython3",
   "version": "3.12.4"
  }
 },
 "nbformat": 4,
 "nbformat_minor": 5
}
